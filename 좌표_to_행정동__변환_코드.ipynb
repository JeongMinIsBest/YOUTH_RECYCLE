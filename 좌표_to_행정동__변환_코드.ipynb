{
 "cells": [
  {
   "cell_type": "code",
   "execution_count": null,
   "metadata": {
    "id": "z0ldX9qEz_3y"
   },
   "outputs": [],
   "source": [
    "import pandas as pd\n",
    "import requests\n",
    "import sys\n",
    "import json\n",
    "import datetime\n",
    "\n",
    "def json_request(url='', encoding='utf-8', success=None, error=lambda e: print('%s : %s' % (e, datetime.now()), file=sys.stderr)):\n",
    "    headers = {'Authorization': 'KakaoAK {}'.format(APP_KEY)}\n",
    "    resp = requests.get(url, headers=headers)\n",
    "    # print('%s : success for request [%s]' % (datetime.now(), url))\n",
    "    return resp.text\n",
    "\n",
    "\n",
    "def reverse_geocode(longitude, latitude):\n",
    "    url = '%s?x=%s&y=%s' %(URL, longitude, latitude)\n",
    "    try:\n",
    "        json_req = json_request(url=url)\n",
    "        json_data = json.loads(json_req)\n",
    "        json_doc = json_data.get('documents')[-1]\n",
    "        json_region_3depth_name = json_doc.get('region_3depth_name')\n",
    "        json_code = json_doc.get('code')\n",
    "    except:\n",
    "        json_region_3depth_name = 'NaN'\n",
    "        json_code = 'NaN'\n",
    "    return json_region_3depth_name, json_code\n",
    "\n",
    "\n",
    "def get_address(x,y):\n",
    "    address = []\n",
    "    json_region_3depth_name, json_code = reverse_geocode(x, y)\n",
    "    address.append(json_region_3depth_name)\n",
    "    return address # 전처리 함수에서 주소 리스트 받아서 데이터프레임에 추가\n",
    "\n",
    "\n",
    "\n",
    "def get_code(x,y):\n",
    "    code = []\n",
    "    json_region_3depth_name, json_code = reverse_geocode(x, y)\n",
    "    code.append(json_code)\n",
    "    return code # 전처리 함수에서 행정구역코드 리스트 받아서 데이터프레임에 추가"
   ]
  },
  {
   "cell_type": "code",
   "execution_count": null,
   "metadata": {
    "colab": {
     "base_uri": "https://localhost:8080/"
    },
    "id": "XdZCdRdO0C7H",
    "outputId": "6db1b5c0-c1af-4976-f479-4475c5eca929"
   },
   "outputs": [
    {
     "name": "stdout",
     "output_type": "stream",
     "text": [
      "0 번째 경위도 좌표계에 대한 정보 불러오는 중...\n",
      "100 번째 경위도 좌표계에 대한 정보 불러오는 중...\n",
      "200 번째 경위도 좌표계에 대한 정보 불러오는 중...\n",
      "300 번째 경위도 좌표계에 대한 정보 불러오는 중...\n",
      "400 번째 경위도 좌표계에 대한 정보 불러오는 중...\n",
      "500 번째 경위도 좌표계에 대한 정보 불러오는 중...\n",
      "600 번째 경위도 좌표계에 대한 정보 불러오는 중...\n",
      "700 번째 경위도 좌표계에 대한 정보 불러오는 중...\n",
      "800 번째 경위도 좌표계에 대한 정보 불러오는 중...\n",
      "900 번째 경위도 좌표계에 대한 정보 불러오는 중...\n",
      "1000 번째 경위도 좌표계에 대한 정보 불러오는 중...\n",
      "1100 번째 경위도 좌표계에 대한 정보 불러오는 중...\n",
      "                          위반장소   Longitude   Latitude ADDRESS          CODE\n",
      "0     덕진구 금암5길 34 앞 도로변 쓰레기적치장  127.135324  35.840061  [금암1동]  [5211358000]\n",
      "1               덕진구 금상동 1276-7  127.184980  35.849120  [우아2동]  [5211361200]\n",
      "2                덕진구 용정동 431-3  127.051151  35.877292   [조촌동]  [5211365000]\n",
      "3       덕진구 인후동1가 산 4-26 방면 도로  127.158552  35.837191  [인후1동]  [5211354000]\n",
      "4                  덕진구 상리4길 16  127.101426  35.851825   [팔복동]  [5211360000]\n",
      "...                        ...         ...        ...     ...           ...\n",
      "1139                덕진동1가 1442  127.120089  35.840137   [덕진동]  [5211357000]\n",
      "1140              팔복동2가 63-100  127.107761  35.850679   [팔복동]  [5211360000]\n",
      "1141             세병로 174-10 부근  127.134036  35.879041  [송천1동]  [5211364100]\n",
      "1142                   진북동 434  127.132993  35.830884   [진북동]  [5211352500]\n",
      "1143                    석소로 20  127.169561  35.829230  [우아2동]  [5211361200]\n",
      "\n",
      "[1144 rows x 5 columns]\n"
     ]
    }
   ],
   "source": [
    "APP_KEY = ''\n",
    "URL = ''\n",
    "\n",
    "df_all = pd.read_csv('/content/전주시 쓰레기 불법투기 위도, 경도.csv', encoding='utf-8')\n",
    "df = df_all[['위반장소', 'Longitude', 'Latitude']]\n",
    "\n",
    "for i in range(len(df)):\n",
    "    x_crd = float(df.loc[i, 'Longitude'])  # Series가 아니라 값을 가져옵니다\n",
    "    y_crd = float(df.loc[i, 'Latitude'])  # Series가 아니라 값을 가져옵니다\n",
    "    address = get_address(x_crd, y_crd)\n",
    "    code = get_code(x_crd, y_crd)\n",
    "    df.loc[i, 'ADDRESS'] = address  # 'ADDRESS'는 단일 열을 가리킵니다\n",
    "    df.loc[i, 'CODE'] = code  # 'CODE'는 단일 열을 가리킵니다\n",
    "\n",
    "    if i % 100 == 0:\n",
    "        print('{} 번째 경위도 좌표계에 대한 정보 불러오는 중...'.format(i))\n",
    "\n",
    "print(df)\n",
    "df.to_csv(\"./holy_result.csv\", index=False, encoding='cp949')"
   ]
  }
 ],
 "metadata": {
  "colab": {
   "provenance": []
  },
  "kernelspec": {
   "display_name": "Python 3",
   "name": "python3"
  },
  "language_info": {
   "name": "python"
  }
 },
 "nbformat": 4,
 "nbformat_minor": 0
}
